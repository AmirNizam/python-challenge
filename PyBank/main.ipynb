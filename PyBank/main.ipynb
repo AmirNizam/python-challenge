{
 "cells": [
  {
   "cell_type": "code",
   "execution_count": null,
   "id": "1d339d3f-e0c4-4e4d-998c-1c7fef386ef6",
   "metadata": {},
   "outputs": [],
   "source": [
    "# PyBank Python Module 2 Challenge"
   ]
  },
  {
   "cell_type": "code",
   "execution_count": 1,
   "id": "e8153c3f-8e2b-4850-b960-afa0c927ece4",
   "metadata": {
    "tags": []
   },
   "outputs": [],
   "source": [
    "# importing necessary libraries to read and write files\n",
    "\n",
    "from pathlib import Path\n",
    "\n",
    "import csv"
   ]
  },
  {
   "cell_type": "code",
   "execution_count": 2,
   "id": "aa33d61f-ef29-4e97-a176-337faa48fff2",
   "metadata": {
    "tags": []
   },
   "outputs": [],
   "source": [
    "# using functions to read csv files and return data as list\n",
    "\n",
    "data_source = Path('./budget_data.csv')\n",
    "\n",
    "def csv_read(input_file_path):\n",
    "    with open(input_file_path, 'r') as source_file:\n",
    "        reader = csv.reader(source_file, delimiter = ',')\n",
    "        record_list = list(reader)\n",
    "    return record_list\n"
   ]
  },
  {
   "cell_type": "code",
   "execution_count": 3,
   "id": "5adc4fc4-8f39-4243-9e3d-c037e71ac945",
   "metadata": {
    "tags": []
   },
   "outputs": [
    {
     "name": "stdout",
     "output_type": "stream",
     "text": [
      "[['Date', 'Profit/Losses'], ['Jan-2010', '867884'], ['Feb-2010', '984655'], ['Mar-2010', '322013'], ['Apr-2010', '-69417'], ['May-2010', '310503'], ['Jun-2010', '522857'], ['Jul-2010', '1033096'], ['Aug-2010', '604885'], ['Sep-2010', '-216386'], ['Oct-2010', '477532'], ['Nov-2010', '893810'], ['Dec-2010', '-80353'], ['Jan-2011', '779806'], ['Feb-2011', '-335203'], ['Mar-2011', '697845'], ['Apr-2011', '793163'], ['May-2011', '485070'], ['Jun-2011', '584122'], ['Jul-2011', '62729'], ['Aug-2011', '668179'], ['Sep-2011', '899906'], ['Oct-2011', '834719'], ['Nov-2011', '132003'], ['Dec-2011', '309978'], ['Jan-2012', '-755566'], ['Feb-2012', '1170593'], ['Mar-2012', '252788'], ['Apr-2012', '1151518'], ['May-2012', '817256'], ['Jun-2012', '570757'], ['Jul-2012', '506702'], ['Aug-2012', '-1022534'], ['Sep-2012', '475062'], ['Oct-2012', '779976'], ['Nov-2012', '144175'], ['Dec-2012', '542494'], ['Jan-2013', '359333'], ['Feb-2013', '321469'], ['Mar-2013', '67780'], ['Apr-2013', '471435'], ['May-2013', '565603'], ['Jun-2013', '872480'], ['Jul-2013', '789480'], ['Aug-2013', '999942'], ['Sep-2013', '-1196225'], ['Oct-2013', '268997'], ['Nov-2013', '-687986'], ['Dec-2013', '1150461'], ['Jan-2014', '682458'], ['Feb-2014', '617856'], ['Mar-2014', '824098'], ['Apr-2014', '581943'], ['May-2014', '132864'], ['Jun-2014', '448062'], ['Jul-2014', '689161'], ['Aug-2014', '800701'], ['Sep-2014', '1166643'], ['Oct-2014', '947333'], ['Nov-2014', '578668'], ['Dec-2014', '988505'], ['Jan-2015', '1139715'], ['Feb-2015', '1029471'], ['Mar-2015', '687533'], ['Apr-2015', '-524626'], ['May-2015', '158620'], ['Jun-2015', '87795'], ['Jul-2015', '423389'], ['Aug-2015', '840723'], ['Sep-2015', '568529'], ['Oct-2015', '332067'], ['Nov-2015', '989499'], ['Dec-2015', '778237'], ['Jan-2016', '650000'], ['Feb-2016', '-1100387'], ['Mar-2016', '-174946'], ['Apr-2016', '757143'], ['May-2016', '445709'], ['Jun-2016', '712961'], ['Jul-2016', '-1163797'], ['Aug-2016', '569899'], ['Sep-2016', '768450'], ['Oct-2016', '102685'], ['Nov-2016', '795914'], ['Dec-2016', '60988'], ['Jan-2017', '138230'], ['Feb-2017', '671099']]\n"
     ]
    }
   ],
   "source": [
    "# print(csv_read(source_path)) to visualize data using print to see header and content\n",
    "\n",
    "print(csv_read(data_source))"
   ]
  },
  {
   "cell_type": "code",
   "execution_count": 4,
   "id": "6d11cb5c-c558-4913-8862-9dc5c72f9103",
   "metadata": {
    "tags": []
   },
   "outputs": [
    {
     "name": "stdout",
     "output_type": "stream",
     "text": [
      "[['Jan-2010', '867884'], ['Feb-2010', '984655'], ['Mar-2010', '322013'], ['Apr-2010', '-69417'], ['May-2010', '310503'], ['Jun-2010', '522857'], ['Jul-2010', '1033096'], ['Aug-2010', '604885'], ['Sep-2010', '-216386'], ['Oct-2010', '477532'], ['Nov-2010', '893810'], ['Dec-2010', '-80353'], ['Jan-2011', '779806'], ['Feb-2011', '-335203'], ['Mar-2011', '697845'], ['Apr-2011', '793163'], ['May-2011', '485070'], ['Jun-2011', '584122'], ['Jul-2011', '62729'], ['Aug-2011', '668179'], ['Sep-2011', '899906'], ['Oct-2011', '834719'], ['Nov-2011', '132003'], ['Dec-2011', '309978'], ['Jan-2012', '-755566'], ['Feb-2012', '1170593'], ['Mar-2012', '252788'], ['Apr-2012', '1151518'], ['May-2012', '817256'], ['Jun-2012', '570757'], ['Jul-2012', '506702'], ['Aug-2012', '-1022534'], ['Sep-2012', '475062'], ['Oct-2012', '779976'], ['Nov-2012', '144175'], ['Dec-2012', '542494'], ['Jan-2013', '359333'], ['Feb-2013', '321469'], ['Mar-2013', '67780'], ['Apr-2013', '471435'], ['May-2013', '565603'], ['Jun-2013', '872480'], ['Jul-2013', '789480'], ['Aug-2013', '999942'], ['Sep-2013', '-1196225'], ['Oct-2013', '268997'], ['Nov-2013', '-687986'], ['Dec-2013', '1150461'], ['Jan-2014', '682458'], ['Feb-2014', '617856'], ['Mar-2014', '824098'], ['Apr-2014', '581943'], ['May-2014', '132864'], ['Jun-2014', '448062'], ['Jul-2014', '689161'], ['Aug-2014', '800701'], ['Sep-2014', '1166643'], ['Oct-2014', '947333'], ['Nov-2014', '578668'], ['Dec-2014', '988505'], ['Jan-2015', '1139715'], ['Feb-2015', '1029471'], ['Mar-2015', '687533'], ['Apr-2015', '-524626'], ['May-2015', '158620'], ['Jun-2015', '87795'], ['Jul-2015', '423389'], ['Aug-2015', '840723'], ['Sep-2015', '568529'], ['Oct-2015', '332067'], ['Nov-2015', '989499'], ['Dec-2015', '778237'], ['Jan-2016', '650000'], ['Feb-2016', '-1100387'], ['Mar-2016', '-174946'], ['Apr-2016', '757143'], ['May-2016', '445709'], ['Jun-2016', '712961'], ['Jul-2016', '-1163797'], ['Aug-2016', '569899'], ['Sep-2016', '768450'], ['Oct-2016', '102685'], ['Nov-2016', '795914'], ['Dec-2016', '60988'], ['Jan-2017', '138230'], ['Feb-2017', '671099']]\n"
     ]
    }
   ],
   "source": [
    "# cleaning data for analysis\n",
    "\n",
    "header_row = csv_read(data_source)[0]\n",
    "\n",
    "dataset = csv_read(data_source)[1:]\n",
    "\n",
    "print (dataset)"
   ]
  },
  {
   "cell_type": "code",
   "execution_count": 5,
   "id": "cf121506-cd54-458a-92c2-9f675905441e",
   "metadata": {
    "tags": []
   },
   "outputs": [
    {
     "name": "stdout",
     "output_type": "stream",
     "text": [
      "Total Months: 86\n"
     ]
    }
   ],
   "source": [
    "no_of_months = len(dataset)\n",
    "\n",
    "print(f\"Total Months: {no_of_months}\")"
   ]
  },
  {
   "cell_type": "code",
   "execution_count": 6,
   "id": "3f1f9cf8-8d63-4ed0-acc0-7a295f6ac887",
   "metadata": {
    "tags": []
   },
   "outputs": [
    {
     "name": "stdout",
     "output_type": "stream",
     "text": [
      "Total Profit: $38382578\n"
     ]
    }
   ],
   "source": [
    "# using functions to calculate net total amount of Profits/Losses from dataset\n",
    "\n",
    "def net_profit_and_loss(data_list):\n",
    "    total_profit_and_loss = 0\n",
    "    for data in data_list:\n",
    "        profit_and_loss = int(data[1])\n",
    "        total_profit_and_loss += profit_and_loss\n",
    "    return total_profit_and_loss\n",
    "\n",
    "net_of_total_amount = net_profit_and_loss(dataset)\n",
    "\n",
    "if net_of_total_amount >= 0:\n",
    "    print(f\"Total Profit: ${net_of_total_amount}\")\n",
    "else:\n",
    "    print(f\"Total Loss: ${net_of_total_amount}\")"
   ]
  },
  {
   "cell_type": "code",
   "execution_count": 7,
   "id": "75776f30-7624-40c1-83f1-ccbde57d057e",
   "metadata": {
    "tags": []
   },
   "outputs": [
    {
     "name": "stdout",
     "output_type": "stream",
     "text": [
      "Average Change: $-2315.12\n"
     ]
    }
   ],
   "source": [
    "# using functions to calculate month on month change in Profit/Loss from dataset\n",
    "\n",
    "def profit_and_loss_change(data_list):\n",
    "    total_months = len(data_list)\n",
    "    dataset_range = range(total_months) \n",
    "    month_on_month_change = []\n",
    "    for month in dataset_range:\n",
    "        if month == (total_months-1):\n",
    "            break\n",
    "        else:    \n",
    "            current_month = data_list[month + 1][0]\n",
    "            current_month_profit_and_loss = int(data_list[month + 1][1])\n",
    "            previous_month_profit_and_loss = int(data_list[month][1])\n",
    "            month_on_month_change.append([current_month,(current_month_profit_and_loss- previous_month_profit_and_loss)])\n",
    "    return month_on_month_change\n",
    "\n",
    "# using functions to calculate avg change in Profit/Loss from dataset\n",
    "\n",
    "def avg_change_profit_and_loss(data_list):\n",
    "    dataset_profit_and_loss_change = profit_and_loss_change(data_list)\n",
    "    count = 0\n",
    "    cummulative_profit_and_loss= 0\n",
    "    for data in dataset_profit_and_loss_change:\n",
    "        count += 1\n",
    "        cummulative_profit_and_loss += data[1]\n",
    "    avg_change = cummulative_profit_and_loss / count\n",
    "    return round(avg_change,2)\n",
    "\n",
    "print(f\"Average Change: ${avg_change_profit_and_loss(dataset)}\")\n"
   ]
  },
  {
   "cell_type": "code",
   "execution_count": 8,
   "id": "b92e34aa-08b9-497c-9879-064abe25989f",
   "metadata": {
    "tags": []
   },
   "outputs": [
    {
     "name": "stdout",
     "output_type": "stream",
     "text": [
      "Greatest Increase in Profits: Feb-2012 ($1926159)\n",
      "Greatest Decrease in Profits: Sep-2013 ($-2196167)\n"
     ]
    }
   ],
   "source": [
    "# Identifying Greatest increase and Greatest decrease in Profits\n",
    "\n",
    "dataset_profit_and_loss_change = profit_and_loss_change(dataset)\n",
    "greatest_increase_profit = 0\n",
    "greatest_decrease_profit = 0\n",
    "for data in dataset_profit_and_loss_change:\n",
    "    if data[1] >= greatest_increase_profit:\n",
    "        greatest_increase_profit = data[1]\n",
    "        greatest_increase_profit_month = data[0]\n",
    "    elif data[1] <= greatest_decrease_profit:\n",
    "        greatest_decrease_profit = data[1]\n",
    "        greatest_decrease_profit_month = data[0]\n",
    "\n",
    "print(f\"Greatest Increase in Profits: {greatest_increase_profit_month} (${greatest_increase_profit})\")\n",
    "\n",
    "print(f\"Greatest Decrease in Profits: {greatest_decrease_profit_month} (${greatest_decrease_profit})\")\n"
   ]
  },
  {
   "cell_type": "code",
   "execution_count": 9,
   "id": "d266e8c1-d3e0-4955-9fea-1c68a377879f",
   "metadata": {},
   "outputs": [],
   "source": [
    "# using functions to create output text file\n",
    "\n",
    "output_file_path = Path('output.txt')\n",
    "def generate_output_file(output_file_path):\n",
    "    with open(output_file_path, 'w') as output:\n",
    "       \n",
    "        output.write(f\"Financial Analysis\\n\")\n",
    "        output.write(f\"------------------------\\n\")\n",
    "        output.write(f\"Total Months: {no_of_months}\\n\")\n",
    "        output.write(f\"Total: ${net_of_total_amount}\\n\")\n",
    "        output.write(f\"Average Change: ${avg_change_profit_and_loss(dataset)}\\n\")\n",
    "        output.write(f\"Greatest Increase in Profits: {greatest_increase_profit_month} (${greatest_increase_profit})\\n\")\n",
    "        output.write(f\"Greatest Decrease in Profits: {greatest_decrease_profit_month} (${greatest_decrease_profit})\\n\")\n",
    "    return output_file_path\n",
    "\n",
    "output_file = generate_output_file(output_file_path)\n",
    "       "
   ]
  },
  {
   "cell_type": "code",
   "execution_count": null,
   "id": "8f40ca3e-34b7-4f54-8747-58478a139925",
   "metadata": {},
   "outputs": [],
   "source": []
  }
 ],
 "metadata": {
  "kernelspec": {
   "display_name": "Python 3 (ipykernel)",
   "language": "python",
   "name": "python3"
  },
  "language_info": {
   "codemirror_mode": {
    "name": "ipython",
    "version": 3
   },
   "file_extension": ".py",
   "mimetype": "text/x-python",
   "name": "python",
   "nbconvert_exporter": "python",
   "pygments_lexer": "ipython3",
   "version": "3.11.5"
  }
 },
 "nbformat": 4,
 "nbformat_minor": 5
}
